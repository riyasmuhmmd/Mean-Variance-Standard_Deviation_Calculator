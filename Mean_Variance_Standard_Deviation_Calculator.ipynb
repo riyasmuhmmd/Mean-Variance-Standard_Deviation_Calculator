{
  "cells": [
    {
      "cell_type": "code",
      "execution_count": null,
      "metadata": {
        "id": "leucrAj_zTXQ"
      },
      "outputs": [],
      "source": [
        "import numpy as np\n",
        "\n",
        "def calculate(numbers):\n",
        "    if len(numbers) != 9:\n",
        "        raise ValueError(\"List must contain nine numbers.\")\n",
        "\n",
        "    \n",
        "    matrix = np.array(numbers).reshape(3, 3)\n",
        "\n",
        "   \n",
        "    calculations = {\n",
        "        'mean': [matrix.mean(axis=0).tolist(), matrix.mean(axis=1).tolist(), matrix.mean().tolist()],\n",
        "        'variance': [matrix.var(axis=0).tolist(), matrix.var(axis=1).tolist(), matrix.var().tolist()],\n",
        "        'standard deviation': [matrix.std(axis=0).tolist(), matrix.std(axis=1).tolist(), matrix.std().tolist()],\n",
        "        'max': [matrix.max(axis=0).tolist(), matrix.max(axis=1).tolist(), matrix.max().tolist()],\n",
        "        'min': [matrix.min(axis=0).tolist(), matrix.min(axis=1).tolist(), matrix.min().tolist()],\n",
        "        'sum': [matrix.sum(axis=0).tolist(), matrix.sum(axis=1).tolist(), matrix.sum().tolist()]\n",
        "    }\n",
        "\n",
        "    return calculations\n"
      ]
    },
    {
      "cell_type": "code",
      "execution_count": 6,
      "metadata": {
        "colab": {
          "base_uri": "https://localhost:8080/"
        },
        "id": "MpSxxhsizpgp",
        "outputId": "2989ff7e-aa13-42c1-a18d-8f843022e536"
      },
      "outputs": [
        {
          "name": "stdout",
          "output_type": "stream",
          "text": [
            "{'mean': [[3.0, 4.0, 5.0], [1.0, 4.0, 7.0], 4.0], 'variance': [[6.0, 6.0, 6.0], [0.6666666666666666, 0.6666666666666666, 0.6666666666666666], 6.666666666666667], 'standard deviation': [[2.449489742783178, 2.449489742783178, 2.449489742783178], [0.816496580927726, 0.816496580927726, 0.816496580927726], 2.581988897471611], 'max': [[6, 7, 8], [2, 5, 8], 8], 'min': [[0, 1, 2], [0, 3, 6], 0], 'sum': [[9, 12, 15], [3, 12, 21], 36]}\n"
          ]
        }
      ],
      "source": [
        "print(calculate([0,1,2,3,4,5,6,7,8]))"
      ]
    }
  ],
  "metadata": {
    "colab": {
      "provenance": []
    },
    "kernelspec": {
      "display_name": "Python 3",
      "name": "python3"
    },
    "language_info": {
      "name": "python"
    }
  },
  "nbformat": 4,
  "nbformat_minor": 0
}
